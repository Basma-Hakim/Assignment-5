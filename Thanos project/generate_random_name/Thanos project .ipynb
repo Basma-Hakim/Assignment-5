{
 "cells": [
  {
   "cell_type": "code",
   "execution_count": 13,
   "metadata": {},
   "outputs": [
    {
     "data": {
      "text/plain": [
       "'niBluW'"
      ]
     },
     "execution_count": 13,
     "metadata": {},
     "output_type": "execute_result"
    }
   ],
   "source": [
    "import generate_random_name\n",
    "dir(generate_random_name)\n",
    "generate_random_name.name()"
   ]
  },
  {
   "cell_type": "code",
   "execution_count": 80,
   "metadata": {},
   "outputs": [
    {
     "name": "stdout",
     "output_type": "stream",
     "text": [
      "C:\\Users\\bdlw0924\\Desktop\\Data Science\\GitKraken\\Assignment 5\\Thanos project\\generate_random_name\\ImagesFile\n",
      "AUwIvA.jpg\n",
      "cKQdlx.jpg\n",
      "cmieAw.jpg\n",
      "cPxKvp.jpg\n",
      "CtNMpE.jpg\n",
      "cwspqu.jpg\n",
      "dnKyMJ.jpg\n",
      "EBuXIt.jpg\n",
      "estAYp.jpg\n",
      "EuJzSL.jpg\n",
      "frZzom.jpg\n",
      "fuBAsN.jpg\n",
      "FWRDNq.jpg\n",
      "fwwTpY.jpg\n",
      "fzGSMh.jpg\n",
      "GWEpaw.jpg\n",
      "IbNCGN.jpg\n",
      "IlxXmD.jpg\n",
      "iMrhUK.jpg\n",
      "jWuKoC.jpg\n",
      "KiAqnm.jpg\n",
      "kWLDhs.jpg\n",
      "LlMXZK.jpg\n",
      "MakPol.jpg\n",
      "nIvWjW.jpg\n",
      "NzuOSn.jpg\n",
      "odhFcp.jpg\n",
      "OEjnLn.jpg\n",
      "ohgVtJ.jpg\n",
      "ozQlQK.jpg\n",
      "pclNpE.jpg\n",
      "PDdMNF.jpg\n",
      "pjbeeW.jpg\n",
      "qChzgI.jpg\n",
      "qcYHrv.jpg\n",
      "QsXwkQ.jpg\n",
      "QUAldL.jpg\n",
      "RKvUTt.jpg\n",
      "rnsqYo.jpg\n",
      "rpKuFB.jpg\n",
      "RUYXAz.jpg\n",
      "sEtHCR.jpg\n",
      "SixIWi.jpg\n",
      "uaTzhX.jpg\n",
      "UudjHZ.jpg\n",
      "VaFxQV.jpg\n",
      "vMphkb.jpg\n",
      "WZUiHh.jpg\n",
      "xdGZgc.jpg\n",
      "ygLpXl.jpg\n",
      "['aBHNbT.jpg', 'bVrMoG.jpg', 'bZPxMZ.jpg', 'ccUSuc.jpg', 'CmplWS.jpg', 'DxrOaK.jpg', 'fKInMn.jpg', 'FmzMEf.jpg', 'FOOXMT.jpg', 'gDqbql.jpg', 'gOlQFt.jpg', 'hxCVuE.jpg', 'iMFTMN.jpg', 'ItFDmq.jpg', 'jDwRdQ.jpg', 'jhuont.jpg', 'jJwrbL.jpg', 'jzEzdr.jpg', 'kAIBbz.jpg', 'kTJxZb.jpg', 'LfPnUS.jpg', 'LKAgjI.jpg', 'lyvWDV.jpg', 'MVehpt.jpg', 'mWSrgu.jpg', 'OLSzPm.jpg', 'ONxVFl.jpg', 'PhXkgx.jpg', 'PMDaRl.jpg', 'qgdjTQ.jpg', 'qOxKjO.jpg', 'RrvjjE.jpg', 'sYYDtL.jpg', 'UmeSmF.jpg', 'uynfCn.jpg', 'vACMQF.jpg', 'VDLPVP.jpg', 'vVWkct.jpg', 'vyfgNX.jpg', 'WkVCec.jpg', 'wOcVbE.jpg', 'wSDwka.jpg', 'xHWXaE.jpg', 'xjLUZs.jpg', 'xwYWLP.jpg', 'xxeyrW.jpg', 'yAxWUo.jpg', 'YnUObP.jpg', 'YTjNrK.jpg', 'ZAXLny.jpg']\n"
     ]
    }
   ],
   "source": [
    "import os\n",
    "Filepath=os.path.abspath('ImagesFile')\n",
    "#print(Filepath)\n",
    "Images=os.listdir('ImagesFile')\n",
    "for Image in Images: \n",
    "    print(Image)\n",
    "    oldname=Filepath+ \"\\\\\"+Image\n",
    "    #print(oldname)\n",
    "    newname =Filepath+\"\\\\\"+generate_random_name.name()+\".jpg\"\n",
    "    #print(newname)\n",
    "    os.rename(oldname, newname)\n",
    "print(os.listdir('ImagesFile'))    "
   ]
  },
  {
   "cell_type": "code",
   "execution_count": null,
   "metadata": {},
   "outputs": [],
   "source": []
  }
 ],
 "metadata": {
  "kernelspec": {
   "display_name": "Python 3",
   "language": "python",
   "name": "python3"
  },
  "language_info": {
   "codemirror_mode": {
    "name": "ipython",
    "version": 3
   },
   "file_extension": ".py",
   "mimetype": "text/x-python",
   "name": "python",
   "nbconvert_exporter": "python",
   "pygments_lexer": "ipython3",
   "version": "3.8.5"
  }
 },
 "nbformat": 4,
 "nbformat_minor": 4
}
